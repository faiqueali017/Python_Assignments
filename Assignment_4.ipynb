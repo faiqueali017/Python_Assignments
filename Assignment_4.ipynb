{
 "cells": [
  {
   "cell_type": "code",
   "execution_count": 8,
   "metadata": {},
   "outputs": [
    {
     "name": "stdout",
     "output_type": "stream",
     "text": [
      "faiq\n",
      "ali\n",
      "20\n",
      "karachi\n",
      "matric\n",
      "\n",
      "New updated dict is:\n",
      "faiq\n",
      "ali\n",
      "20\n",
      "karachi\n",
      "bachelors\n"
     ]
    }
   ],
   "source": [
    "# Question:01\n",
    "\n",
    "person = {\n",
    "    'first_name': 'faiq',\n",
    "    'last_name': 'ali',\n",
    "    'age': 20,\n",
    "    'city': 'karachi',\n",
    "    'qualification': 'matric',\n",
    "    }\n",
    "\n",
    "print(person['first_name'])\n",
    "print(person['last_name'])\n",
    "print(person['age'])\n",
    "print(person['city'])\n",
    "print(person['qualification'])\n",
    "person['qualification'] = 'bachelors'\n",
    "\n",
    "print('\\nNew updated dict is:')\n",
    "print(person['first_name'])\n",
    "print(person['last_name'])\n",
    "print(person['age'])\n",
    "print(person['city'])\n",
    "print(person['qualification'])"
   ]
  },
  {
   "cell_type": "code",
   "execution_count": 9,
   "metadata": {},
   "outputs": [
    {
     "name": "stdout",
     "output_type": "stream",
     "text": [
      "\n",
      "Santiago is in Chile.\n",
      "  It has a population of about 6158080.\n",
      "  The Andes mountains are nearby.\n",
      "\n",
      "Talkeetna is in Alaska.\n",
      "  It has a population of about 876.\n",
      "  The Alaska Range mountains are nearby.\n",
      "\n",
      "Kathmandu is in Nepal.\n",
      "  It has a population of about 1003285.\n",
      "  The Himilaya mountains are nearby.\n"
     ]
    }
   ],
   "source": [
    "# Question:02\n",
    "\n",
    "cities = {\n",
    "    'santiago': {\n",
    "        'country': 'chile',\n",
    "        'population': 6158080,\n",
    "        'nearby mountains': 'andes',\n",
    "        },\n",
    "    'talkeetna': {\n",
    "        'country': 'alaska',\n",
    "        'population': 876,\n",
    "        'nearby mountains': 'alaska range',\n",
    "        },\n",
    "    'kathmandu': {\n",
    "        'country': 'nepal',\n",
    "        'population': 1003285,\n",
    "        'nearby mountains': 'himilaya',\n",
    "        }\n",
    "    }\n",
    "\n",
    "for city, city_info in cities.items():\n",
    "    country = city_info['country'].title()\n",
    "    population = city_info['population']\n",
    "    mountains = city_info['nearby mountains'].title()\n",
    "\n",
    "    print(\"\\n\" + city.title() + \" is in \" + country + \".\")\n",
    "    print(\"  It has a population of about \" + str(population) + \".\")\n",
    "    print(\"  The \" + mountains + \" mountains are nearby.\")"
   ]
  },
  {
   "cell_type": "code",
   "execution_count": 10,
   "metadata": {},
   "outputs": [
    {
     "name": "stdout",
     "output_type": "stream",
     "text": [
      "How old are you?\n",
      "Enter 'quit' when you are finished. 20\n",
      "  Your ticket is $15.\n",
      "How old are you?\n",
      "Enter 'quit' when you are finished. 30\n",
      "  Your ticket is $15.\n",
      "How old are you?\n",
      "Enter 'quit' when you are finished. 5\n",
      "  Your ticket is $10.\n",
      "How old are you?\n",
      "Enter 'quit' when you are finished. 2\n",
      "  You get in free!\n",
      "How old are you?\n",
      "Enter 'quit' when you are finished. quit\n"
     ]
    }
   ],
   "source": [
    "# Question:03\n",
    "\n",
    "prompt = \"How old are you?\"\n",
    "prompt += \"\\nEnter 'quit' when you are finished. \"\n",
    "\n",
    "while True:\n",
    "    age = input(prompt)\n",
    "    if age == 'quit':\n",
    "        break\n",
    "    age = int(age)\n",
    "\n",
    "    if age < 3:\n",
    "        print(\"  You get in free!\")\n",
    "    elif age < 13:\n",
    "        print(\"  Your ticket is $10.\")\n",
    "    else:\n",
    "        print(\"  Your ticket is $15.\")"
   ]
  },
  {
   "cell_type": "code",
   "execution_count": 12,
   "metadata": {},
   "outputs": [
    {
     "name": "stdout",
     "output_type": "stream",
     "text": [
      "Intelligence Trap is one of my favorite books.\n"
     ]
    }
   ],
   "source": [
    "# Question:04\n",
    "\n",
    "def favorite_book(title):\n",
    "    print(title + \" is one of my favorite books.\")\n",
    "\n",
    "favorite_book('Intelligence Trap')"
   ]
  },
  {
   "cell_type": "code",
   "execution_count": null,
   "metadata": {},
   "outputs": [
    {
     "name": "stdout",
     "output_type": "stream",
     "text": [
      "Guess my target number that is between 1 and 100 (inclusive).\n",
      "\n",
      "Your guess(1): 23\n",
      "  Too low.\n",
      "Your guess(2): 56\n",
      "  Too low.\n",
      "Your guess(3): 92\n",
      "  Too high.\n",
      "Your guess(4): 70\n",
      "  Too low.\n",
      "Your guess(5): 80\n",
      "  Too low.\n",
      "Your guess(6): 85\n",
      "  Too high.\n",
      "Your guess(7): 83\n",
      "  Too high.\n",
      "Your guess(8): 79\n",
      "  Too low.\n",
      "Your guess(9): 80\n",
      "  Too low.\n",
      "Your guess(10): 99\n",
      "  Too high.\n",
      "Your guess(11): 98\n",
      "  Too high.\n"
     ]
    }
   ],
   "source": [
    "# Question:05\n",
    "\n",
    "import random\n",
    " \n",
    "inclusive_range = (1, 100)\n",
    " \n",
    "print(\"Guess my target number that is between %i and %i (inclusive).\\n\"\n",
    "      % inclusive_range)\n",
    "target = random.randint(*inclusive_range)\n",
    "answer, i = None, 0\n",
    "while answer != target:\n",
    "    i += 1\n",
    "    txt = input(\"Your guess(%i): \" % i)\n",
    "    try:\n",
    "        answer = int(txt)\n",
    "    except ValueError:\n",
    "        print(\"  I don't understand your input of '%s' ?\" % txt)\n",
    "        continue\n",
    "    if answer < inclusive_range[0] or answer > inclusive_range[1]:\n",
    "        print(\"  Out of range!\")\n",
    "        continue\n",
    "    if answer == target:\n",
    "        print(\"  Ye-Haw!!\")\n",
    "        break\n",
    "    if answer < target: print(\"  Too low.\")\n",
    "    if answer > target: print(\"  Too high.\")\n",
    "print(\"\\nThanks for playing.\")"
   ]
  },
  {
   "cell_type": "code",
   "execution_count": null,
   "metadata": {},
   "outputs": [],
   "source": []
  }
 ],
 "metadata": {
  "kernelspec": {
   "display_name": "Python 3",
   "language": "python",
   "name": "python3"
  },
  "language_info": {
   "codemirror_mode": {
    "name": "ipython",
    "version": 3
   },
   "file_extension": ".py",
   "mimetype": "text/x-python",
   "name": "python",
   "nbconvert_exporter": "python",
   "pygments_lexer": "ipython3",
   "version": "3.7.4"
  }
 },
 "nbformat": 4,
 "nbformat_minor": 2
}
